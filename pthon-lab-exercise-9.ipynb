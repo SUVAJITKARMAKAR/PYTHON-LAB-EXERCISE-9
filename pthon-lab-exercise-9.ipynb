{
 "cells": [
  {
   "cell_type": "markdown",
   "metadata": {},
   "source": [
    "# PYTHON LAB EXERCISE 9 \n"
   ]
  },
  {
   "cell_type": "markdown",
   "metadata": {},
   "source": [
    "### Write a program to distinguish between Array Indexing and Fancy Indexing."
   ]
  },
  {
   "cell_type": "code",
   "execution_count": 2,
   "metadata": {},
   "outputs": [
    {
     "name": "stdout",
     "output_type": "stream",
     "text": [
      "ARRAY INDEXING :\n",
      "ELEMENTS AT  [0, 0]: 1\n",
      "SECOND ROW  [4 5 6]\n",
      "THIRD COLUMN : [3 6 9]\n",
      "\n",
      "FANCY INDEXING :\n",
      "ROWS 0 AND 2 : [[1 2 3]\n",
      " [7 8 9]]\n",
      "COLUMNS 0 AND 2 :\n",
      " [[1 3]\n",
      " [4 6]\n",
      " [7 9]]\n",
      "ELEMENTS > 4: [5 6 7 8 9]\n"
     ]
    }
   ],
   "source": [
    "import numpy as np\n",
    "\n",
    "\n",
    "arr = np.array([[1, 2, 3],\n",
    "                [4, 5, 6],\n",
    "                [7, 8, 9]])\n",
    "\n",
    "\n",
    "element_1 = arr[0, 0]  \n",
    "row_slice = arr[1, :]  \n",
    "column_slice = arr[:, 2]  \n",
    "\n",
    "print(\"ARRAY INDEXING :\")\n",
    "print(\"ELEMENTS AT  [0, 0]:\", element_1)\n",
    "print(\"SECOND ROW \", row_slice)\n",
    "print(\"THIRD COLUMN :\", column_slice)\n",
    "\n",
    "\n",
    "row_indices = np.array([0, 2]) \n",
    "fancy_row = arr[row_indices, :]  \n",
    "\n",
    "column_indices = np.array([0, 2]) \n",
    "fancy_column = arr[:, column_indices]  \n",
    "\n",
    "boolean_mask = arr > 4  \n",
    "fancy_boolean = arr[boolean_mask]  \n",
    "\n",
    "print(\"\\nFANCY INDEXING :\")\n",
    "print(\"ROWS 0 AND 2 :\", fancy_row)\n",
    "print(\"COLUMNS 0 AND 2 :\\n\", fancy_column)\n",
    "print(\"ELEMENTS > 4:\", fancy_boolean)\n"
   ]
  },
  {
   "cell_type": "markdown",
   "metadata": {},
   "source": [
    "### Array 2D - slicing "
   ]
  },
  {
   "cell_type": "code",
   "execution_count": 1,
   "metadata": {},
   "outputs": [
    {
     "name": "stdout",
     "output_type": "stream",
     "text": [
      "ORIGINAL ARRAY :\n",
      "[[ 1  2  3  4]\n",
      " [ 5  6  7  8]\n",
      " [ 9 10 11 12]]\n",
      "\n",
      "SLICED ARRAY 1 ->  (ROWS 0 to 1, COLUMNS 1 to 2):\n",
      "[[2 3]\n",
      " [6 7]]\n",
      "\n",
      "SLICED ARRAY  2 (ALL ROWS, COLUMNS 2 AND BEYOND ):\n",
      "[[ 3  4]\n",
      " [ 7  8]\n",
      " [11 12]]\n",
      "\n",
      "SLICED ARRAY 3 (ROW 1, ALL COLUMNS):\n",
      "[5 6 7 8]\n",
      "\n",
      "SLICED ARRAY  4 (ALL ROWS, COLUMN 1):\n",
      "[ 2  6 10]\n"
     ]
    }
   ],
   "source": [
    "import numpy as np\n",
    "\n",
    "\n",
    "arr = np.array([[1, 2, 3, 4],\n",
    "                [5, 6, 7, 8],\n",
    "                [9, 10, 11, 12]])\n",
    "\n",
    "\n",
    "slice_1 = arr[0:2, 1:3]  \n",
    "slice_2 = arr[:, 2:]     \n",
    "slice_3 = arr[1, :]   \n",
    "slice_4 = arr[:, 1]   \n",
    "\n",
    "print(\"ORIGINAL ARRAY :\")\n",
    "print(arr)\n",
    "\n",
    "print(\"\\nSLICED ARRAY 1 ->  (ROWS 0 to 1, COLUMNS 1 to 2):\")\n",
    "print(slice_1)\n",
    "\n",
    "print(\"\\nSLICED ARRAY  2 (ALL ROWS, COLUMNS 2 AND BEYOND ):\")\n",
    "print(slice_2)\n",
    "\n",
    "print(\"\\nSLICED ARRAY 3 (ROW 1, ALL COLUMNS):\")\n",
    "print(slice_3)\n",
    "\n",
    "print(\"\\nSLICED ARRAY  4 (ALL ROWS, COLUMN 1):\")\n",
    "print(slice_4)\n"
   ]
  },
  {
   "cell_type": "markdown",
   "metadata": {},
   "source": [
    "### Create the 5-Dimensional arrays using ‘ndmin’."
   ]
  },
  {
   "cell_type": "code",
   "execution_count": 2,
   "metadata": {},
   "outputs": [
    {
     "name": "stdout",
     "output_type": "stream",
     "text": [
      "5-DIMENSIONAL ARRAY :\n",
      "[[[[[1 2 3]]]]]\n",
      "SHAPE OF 5 DIEMSIONAL ARRAY : (1, 1, 1, 1, 3)\n"
     ]
    }
   ],
   "source": [
    "import numpy as np\n",
    "\n",
    "\n",
    "arr_5d = np.array([1, 2, 3], ndmin=5)\n",
    "print(\"5-DIMENSIONAL ARRAY :\")\n",
    "print(arr_5d)\n",
    "print(\"SHAPE OF 5 DIEMSIONAL ARRAY :\", arr_5d.shape)\n"
   ]
  },
  {
   "cell_type": "markdown",
   "metadata": {},
   "source": [
    "### Reshape the array from 1-D to 2-D array."
   ]
  },
  {
   "cell_type": "code",
   "execution_count": 3,
   "metadata": {},
   "outputs": [
    {
     "name": "stdout",
     "output_type": "stream",
     "text": [
      "ORIGINAL 1-D ARRAY :\n",
      "[1 2 3 4 5 6]\n",
      "RESHAPED 2-D ARRAY :\n",
      "[[1 2 3]\n",
      " [4 5 6]]\n"
     ]
    }
   ],
   "source": [
    "import numpy as np\n",
    "\n",
    "\n",
    "arr_1d = np.array([1, 2, 3, 4, 5, 6])\n",
    "arr_2d = arr_1d.reshape(2, 3)\n",
    "\n",
    "print(\"ORIGINAL 1-D ARRAY :\")\n",
    "print(arr_1d)\n",
    "print(\"RESHAPED 2-D ARRAY :\")\n",
    "print(arr_2d)\n"
   ]
  },
  {
   "cell_type": "markdown",
   "metadata": {},
   "source": [
    "### Perform the Stack functions in Numpy arrays – Stack(), hstack(), vstack(), and dstack()."
   ]
  },
  {
   "cell_type": "code",
   "execution_count": 5,
   "metadata": {},
   "outputs": [
    {
     "name": "stdout",
     "output_type": "stream",
     "text": [
      "HORIZONTALLY STACKED :\n",
      "[1 2 3 4 5 6]\n",
      "VERTICALLY STACKED :\n",
      "[[1 2 3]\n",
      " [4 5 6]]\n",
      "DEPTH WISE STACKED :\n",
      "[[[1 4]\n",
      "  [2 5]\n",
      "  [3 6]]]\n"
     ]
    }
   ],
   "source": [
    "import numpy as np\n",
    "\n",
    "arr1 = np.array([1, 2, 3])\n",
    "arr2 = np.array([4, 5, 6])\n",
    "hstacked = np.hstack((arr1, arr2))\n",
    "print(\"HORIZONTALLY STACKED :\")\n",
    "print(hstacked)\n",
    "\n",
    "vstacked = np.vstack((arr1, arr2))\n",
    "print(\"VERTICALLY STACKED :\")\n",
    "print(vstacked)\n",
    "\n",
    "dstacked = np.dstack((arr1, arr2))\n",
    "print(\"DEPTH WISE STACKED :\")\n",
    "print(dstacked)"
   ]
  },
  {
   "cell_type": "markdown",
   "metadata": {},
   "source": [
    "### Perform the searchsort method in Numpy array."
   ]
  },
  {
   "cell_type": "code",
   "execution_count": 6,
   "metadata": {},
   "outputs": [
    {
     "name": "stdout",
     "output_type": "stream",
     "text": [
      "Sorted Array: [1 2 3 4 5]\n"
     ]
    }
   ],
   "source": [
    "import numpy as np\n",
    "\n",
    "arr = np.array([3, 1, 2, 4, 5])\n",
    "sorted_arr = np.sort(arr)\n",
    "print(\"SORTED ARRAY IS :\", sorted_arr)\n"
   ]
  },
  {
   "cell_type": "markdown",
   "metadata": {},
   "source": [
    "### Create Numpy Structured array using your domain features."
   ]
  },
  {
   "cell_type": "code",
   "execution_count": 7,
   "metadata": {},
   "outputs": [
    {
     "name": "stdout",
     "output_type": "stream",
     "text": [
      "NAME : ['hello@suva' 'hello@subh' 'hello@chow']\n",
      "AGE : [21 21 22]\n",
      "USERID : [2347261 2547814 7784524]\n",
      "ACCOUNT TYPE : [ True False  True]\n"
     ]
    }
   ],
   "source": [
    "import numpy as np\n",
    "\n",
    "\n",
    "dtype = [('name', 'U10'), ('age', int), ('userId', int), ('userAccountType', bool)]\n",
    "\n",
    "# Create a structured array with sample data\n",
    "data = [('hello@suvajit_k', 21, 2347261, True), ('hello@subham_g', 21, 2547814, False), ('hello@chowdhury_a', 22, 7784524, True)]\n",
    "structured_array = np.array(data, dtype=dtype)\n",
    "\n",
    "# Accessing elements by field name\n",
    "print(\"NAME :\", structured_array['name'])\n",
    "print(\"AGE :\", structured_array['age'])\n",
    "print(\"USERID :\", structured_array['userId'])\n",
    "print(\"ACCOUNT TYPE :\", structured_array['userAccountType'])\n"
   ]
  },
  {
   "cell_type": "markdown",
   "metadata": {},
   "source": [
    "### Create Data frame using List and Dictionary."
   ]
  },
  {
   "cell_type": "code",
   "execution_count": 9,
   "metadata": {},
   "outputs": [
    {
     "name": "stdout",
     "output_type": "stream",
     "text": [
      "      Name  Age\n",
      "0    Alice   25\n",
      "1      Bob   30\n",
      "2  Charlie   22\n"
     ]
    }
   ],
   "source": [
    "import pandas as pd\n",
    "\n",
    "# Creating a DataFrame using a dictionary\n",
    "data = {\n",
    "    \"Name\": [\"subham\", \"hrishabh\", \"mano\"],\n",
    "    \"Age\": [25, 30, 22]\n",
    "}\n",
    "\n",
    "# Create a DataFrame\n",
    "df = pd.DataFrame(data)\n",
    "\n",
    "# Display the DataFrame\n",
    "print(df)\n"
   ]
  },
  {
   "cell_type": "code",
   "execution_count": 10,
   "metadata": {},
   "outputs": [
    {
     "name": "stdout",
     "output_type": "stream",
     "text": [
      "     Name  Age\n",
      "0  salini   25\n",
      "1  subham   30\n",
      "2   david   22\n"
     ]
    }
   ],
   "source": [
    "import pandas as pd\n",
    "\n",
    "# Creating a DataFrame using lists\n",
    "data = [\n",
    "    [\"salini\", 25],\n",
    "    [\"subham\", 30],\n",
    "    [\"david\", 22]\n",
    "]\n",
    "\n",
    "# Define column names\n",
    "columns = [\"Name\", \"Age\"]\n",
    "\n",
    "# Create a DataFrame\n",
    "df = pd.DataFrame(data, columns=columns)\n",
    "\n",
    "# Display the DataFrame\n",
    "print(df)\n"
   ]
  },
  {
   "cell_type": "markdown",
   "metadata": {},
   "source": [
    "### Create Data frame on your Domain area and perform the following operations to find and eliminate the\n",
    "missing data from the dataset.\n",
    "• isnull()\n",
    "• notnull()\n",
    "• dropna()\n",
    "• fillna()\n",
    "• replace()\n",
    "• interpolate()"
   ]
  },
  {
   "cell_type": "code",
   "execution_count": 11,
   "metadata": {},
   "outputs": [
    {
     "name": "stdout",
     "output_type": "stream",
     "text": [
      "Check for missing data using isnull():\n",
      "    Name    Age  Salary\n",
      "0  False  False   False\n",
      "1  False   True   False\n",
      "2  False  False    True\n",
      "3  False  False    True\n",
      "4  False  False   False\n",
      "\n",
      "Check for non-missing data using notnull():\n",
      "   Name    Age  Salary\n",
      "0  True   True    True\n",
      "1  True  False    True\n",
      "2  True   True   False\n",
      "3  True   True   False\n",
      "4  True   True    True\n",
      "\n",
      "DataFrame after dropping rows with missing data:\n",
      "    Name   Age   Salary\n",
      "0  Alice  25.0  45000.0\n",
      "4   Ella  35.0  60000.0\n",
      "\n",
      "DataFrame after filling missing data:\n",
      "      Name   Age   Salary\n",
      "0    Alice  25.0  45000.0\n",
      "1      Bob  28.0  55000.0\n",
      "2  Charlie  22.0  55000.0\n",
      "3    David  30.0  55000.0\n",
      "4     Ella  35.0  60000.0\n",
      "\n",
      "DataFrame after replacing missing data:\n",
      "      Name   Age   Salary\n",
      "0    Alice  25.0  45000.0\n",
      "1      Bob   0.0  55000.0\n",
      "2  Charlie  22.0      0.0\n",
      "3    David  30.0      0.0\n",
      "4     Ella  35.0  60000.0\n",
      "\n",
      "DataFrame after interpolating missing data:\n",
      "      Name   Age        Salary\n",
      "0    Alice  25.0  45000.000000\n",
      "1      Bob  23.5  55000.000000\n",
      "2  Charlie  22.0  56666.666667\n",
      "3    David  30.0  58333.333333\n",
      "4     Ella  35.0  60000.000000\n"
     ]
    },
    {
     "name": "stderr",
     "output_type": "stream",
     "text": [
      "/tmp/ipykernel_6036/3908641328.py:37: FutureWarning: DataFrame.interpolate with object dtype is deprecated and will raise in a future version. Call obj.infer_objects(copy=False) before interpolating instead.\n",
      "  df_interpolated = df.interpolate()\n"
     ]
    }
   ],
   "source": [
    "import pandas as pd\n",
    "import numpy as np\n",
    "\n",
    "# Create a sample DataFrame with missing data\n",
    "data = {\n",
    "    'Name': ['Alice', 'Bob', 'Charlie', 'David', 'Ella'],\n",
    "    'Age': [25, np.nan, 22, 30, 35],\n",
    "    'Salary': [45000, 55000, np.nan, np.nan, 60000]\n",
    "}\n",
    "\n",
    "df = pd.DataFrame(data)\n",
    "\n",
    "# Check for missing data using isnull()\n",
    "print(\"Check for missing data using isnull():\")\n",
    "print(df.isnull())\n",
    "\n",
    "# Check for non-missing data using notnull()\n",
    "print(\"\\nCheck for non-missing data using notnull():\")\n",
    "print(df.notnull())\n",
    "\n",
    "# Drop rows with missing data using dropna()\n",
    "df_dropped = df.dropna()\n",
    "print(\"\\nDataFrame after dropping rows with missing data:\")\n",
    "print(df_dropped)\n",
    "\n",
    "# Fill missing data with a specific value using fillna()\n",
    "df_filled = df.fillna({'Age': df['Age'].mean(), 'Salary': df['Salary'].median()})\n",
    "print(\"\\nDataFrame after filling missing data:\")\n",
    "print(df_filled)\n",
    "\n",
    "# Replace missing values with a specific value using replace()\n",
    "df_replaced = df.replace(np.nan, 0)\n",
    "print(\"\\nDataFrame after replacing missing data:\")\n",
    "print(df_replaced)\n",
    "\n",
    "# Interpolate missing values using interpolate()\n",
    "df_interpolated = df.interpolate()\n",
    "print(\"\\nDataFrame after interpolating missing data:\")\n",
    "print(df_interpolated)\n"
   ]
  },
  {
   "cell_type": "markdown",
   "metadata": {},
   "source": [
    "### Perform the Hierarchical Indexing in the above created dataset."
   ]
  },
  {
   "cell_type": "code",
   "execution_count": 12,
   "metadata": {},
   "outputs": [
    {
     "name": "stdout",
     "output_type": "stream",
     "text": [
      "               Salary\n",
      "Name    Age          \n",
      "Alice   25.0  45000.0\n",
      "Bob     NaN   55000.0\n",
      "Charlie 22.0      NaN\n",
      "David   30.0      NaN\n",
      "Ella    35.0  60000.0\n"
     ]
    }
   ],
   "source": [
    "import pandas as pd\n",
    "import numpy as np\n",
    "\n",
    "# Create a sample DataFrame\n",
    "data = {\n",
    "    'Name': ['Alice', 'Bob', 'Charlie', 'David', 'Ella'],\n",
    "    'Age': [25, np.nan, 22, 30, 35],\n",
    "    'Salary': [45000, 55000, np.nan, np.nan, 60000]\n",
    "}\n",
    "\n",
    "df = pd.DataFrame(data)\n",
    "\n",
    "# Set hierarchical indexing using set_index()\n",
    "df.set_index(['Name', 'Age'], inplace=True)\n",
    "\n",
    "# Display the DataFrame with hierarchical indexing\n",
    "print(df)\n"
   ]
  }
 ],
 "metadata": {
  "kernelspec": {
   "display_name": "Python 3",
   "language": "python",
   "name": "python3"
  },
  "language_info": {
   "codemirror_mode": {
    "name": "ipython",
    "version": 3
   },
   "file_extension": ".py",
   "mimetype": "text/x-python",
   "name": "python",
   "nbconvert_exporter": "python",
   "pygments_lexer": "ipython3",
   "version": "3.10.12"
  },
  "orig_nbformat": 4
 },
 "nbformat": 4,
 "nbformat_minor": 2
}
